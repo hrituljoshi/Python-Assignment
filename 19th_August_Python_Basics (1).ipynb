{
 "cells": [
  {
   "cell_type": "code",
   "execution_count": 9,
   "id": "af871cdf-a08c-411a-a0db-a6e6b865bcbd",
   "metadata": {},
   "outputs": [],
   "source": [
    "#TOPIC: Python Basics Variable"
   ]
  },
  {
   "cell_type": "code",
   "execution_count": 6,
   "id": "f221dbc2-b402-4249-9b1c-4f2b172d2647",
   "metadata": {},
   "outputs": [
    {
     "name": "stdout",
     "output_type": "stream",
     "text": [
      "Before Swapping:\n",
      "The value of x: 10 and y: 20\n",
      "After Swapping:\n",
      "Value of x: 20 and y: 10\n"
     ]
    }
   ],
   "source": [
    "#Swapping of two variables without using any temporary variable.\n",
    "x=10\n",
    "y=20\n",
    "print(\"Before Swapping:\")\n",
    "print(\"The value of x:\",x,\"and y:\",y)\n",
    "#code to swap x and y\n",
    "x,y = y,x\n",
    "print(\"After Swapping:\")\n",
    "print(\"Value of x:\",x,\"and y:\",y)"
   ]
  },
  {
   "cell_type": "code",
   "execution_count": 1,
   "id": "29c8720d-3e79-499e-badb-a3a6851fbaad",
   "metadata": {},
   "outputs": [
    {
     "name": "stdin",
     "output_type": "stream",
     "text": [
      "Enter length of rectangle: 20\n",
      "Enter breath of rectangle: 10\n"
     ]
    },
    {
     "name": "stdout",
     "output_type": "stream",
     "text": [
      "Length= 20.0\n",
      "Breath= 10.0\n",
      "Area of rectangle is: 200.0\n"
     ]
    }
   ],
   "source": [
    "#Area of rectangle.\n",
    "l=float(input(\"Enter length of rectangle:\"))\n",
    "b=float(input(\"Enter breath of rectangle:\"))\n",
    "Area = l*b                           #Formula to calculate area of reactangle \n",
    "print(\"Length=\",l)\n",
    "print(\"Breath=\",b)\n",
    "print(\"Area of rectangle is:\",Area)"
   ]
  },
  {
   "cell_type": "code",
   "execution_count": 3,
   "id": "664ade4a-f3e4-46c2-b067-89f3f9eb79c1",
   "metadata": {},
   "outputs": [
    {
     "name": "stdin",
     "output_type": "stream",
     "text": [
      "Enter the temperature in celcius: 33\n"
     ]
    },
    {
     "name": "stdout",
     "output_type": "stream",
     "text": [
      "celsius= 33.0\n",
      "The temperature in fahrenheit is: 91.4\n"
     ]
    }
   ],
   "source": [
    "#Temperature Conversion\n",
    "celsius = float(input(\"Enter the temperature in celcius:\")) \n",
    "fahrenheit = (1.8*celsius)+32      #Formula to convert celsius to fahrenheit\n",
    "print(\"celsius=\",celsius)\n",
    "print(\"The temperature in fahrenheit is:\",fahrenheit)"
   ]
  },
  {
   "cell_type": "code",
   "execution_count": 16,
   "id": "919dc92e-eda1-40c6-97f8-25ca9990774c",
   "metadata": {},
   "outputs": [],
   "source": [
    "#Topic: String Based Questions"
   ]
  },
  {
   "cell_type": "code",
   "execution_count": 4,
   "id": "9185e104-9a25-43af-b163-82825563080c",
   "metadata": {},
   "outputs": [
    {
     "name": "stdin",
     "output_type": "stream",
     "text": [
      "Enter String: pwskills\n"
     ]
    },
    {
     "name": "stdout",
     "output_type": "stream",
     "text": [
      "String= pwskills\n",
      "Length of string is: 8\n"
     ]
    }
   ],
   "source": [
    "#Length of string\n",
    "s=input(\"Enter String:\")\n",
    "print(\"String=\",s)\n",
    "print(\"Length of string is:\",len(s))"
   ]
  },
  {
   "cell_type": "code",
   "execution_count": 5,
   "id": "edcee037-a243-4cc8-8720-8273040b0e05",
   "metadata": {},
   "outputs": [
    {
     "name": "stdin",
     "output_type": "stream",
     "text": [
      "Write the sentence: my name is hritul joshi and i am 21 years old.\n"
     ]
    },
    {
     "name": "stdout",
     "output_type": "stream",
     "text": [
      "Sentence: my name is hritul joshi and i am 21 years old.\n",
      "Number of vowels in the sentence are: 13\n"
     ]
    }
   ],
   "source": [
    "#Program to count vowels in a sentenc.\n",
    "sentence = str(input(\"Write the sentence:\"))\n",
    "vowels = 0\n",
    "for i in sentence:\n",
    "      if(i=='a' or i=='e' or i=='i' or i=='o' or i=='u' or i=='A' or i=='E' or i=='I' or i=='O' or i=='U'):\n",
    "            vowels = vowels + 1\n",
    "print(\"Sentence:\",sentence)\n",
    "print(\"Number of vowels in the sentence are:\",vowels)\n"
   ]
  },
  {
   "cell_type": "code",
   "execution_count": 7,
   "id": "66e4f836-78cd-4a92-953f-3a8cd3fab914",
   "metadata": {},
   "outputs": [
    {
     "name": "stdin",
     "output_type": "stream",
     "text": [
      "Enter the string: rituljoshi\n"
     ]
    },
    {
     "name": "stdout",
     "output_type": "stream",
     "text": [
      "string: rituljoshi\n",
      "Reversed string is:\n",
      "ihsojlutir\n"
     ]
    }
   ],
   "source": [
    "#Program to reverse the character of a string using string slicing \n",
    "string = str(input(\"Enter the string:\"))\n",
    "rev_string = string[::-1]\n",
    "print(\"string:\",string)\n",
    "print(\"Reversed string is:\")\n",
    "print(rev_string)"
   ]
  },
  {
   "cell_type": "code",
   "execution_count": 8,
   "id": "f47373cf-9a61-48f6-a318-86e74c745cc6",
   "metadata": {},
   "outputs": [
    {
     "name": "stdin",
     "output_type": "stream",
     "text": [
      "Enter the string: malayalam\n"
     ]
    },
    {
     "name": "stdout",
     "output_type": "stream",
     "text": [
      "string: malayalam\n",
      "This is a palindrome\n"
     ]
    }
   ],
   "source": [
    "#Program to check the given string is palindrome or not.\n",
    "s1= str(input(\"Enter the string:\"))\n",
    "print(\"string:\",s1)\n",
    "s2= s1[::-1]\n",
    "if s1==s2:\n",
    "    print(\"This is a palindrome\")\n",
    "else:\n",
    "    print(\"This is not a palindrome\")"
   ]
  },
  {
   "cell_type": "code",
   "execution_count": 9,
   "id": "e2798f6c-9b51-4eaf-bcd8-8d265584da88",
   "metadata": {},
   "outputs": [
    {
     "name": "stdin",
     "output_type": "stream",
     "text": [
      "Enter the string: m y  n a m e  i s  h r i t u l  j o s h i\n"
     ]
    },
    {
     "name": "stdout",
     "output_type": "stream",
     "text": [
      "s= m y  n a m e  i s  h r i t u l  j o s h i\n",
      "Final string is: mynameishrituljoshi\n"
     ]
    }
   ],
   "source": [
    "#Program to remove spaces from a string\n",
    "string1=str(input(\"Enter the string:\"))\n",
    "string2= string1.replace(\" \",\"\")\n",
    "print(\"s=\",string1)\n",
    "print(\"Final string is:\",string2)"
   ]
  },
  {
   "cell_type": "code",
   "execution_count": null,
   "id": "2a4645fa-c4cb-4527-ac1b-d773dccc8003",
   "metadata": {},
   "outputs": [],
   "source": []
  }
 ],
 "metadata": {
  "kernelspec": {
   "display_name": "Python 3 (ipykernel)",
   "language": "python",
   "name": "python3"
  },
  "language_info": {
   "codemirror_mode": {
    "name": "ipython",
    "version": 3
   },
   "file_extension": ".py",
   "mimetype": "text/x-python",
   "name": "python",
   "nbconvert_exporter": "python",
   "pygments_lexer": "ipython3",
   "version": "3.10.8"
  }
 },
 "nbformat": 4,
 "nbformat_minor": 5
}
